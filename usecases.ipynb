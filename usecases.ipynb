{
 "cells": [
  {
   "cell_type": "code",
   "execution_count": 1,
   "metadata": {
    "is_executing": true
   },
   "outputs": [],
   "source": [
    "from utils.constants import CONSTANTS_LIGHT_SABER\n",
    "from utils.algorithms import randombytes\n",
    "from Crypto.Cipher import AES\n",
    "from pke import PKE\n",
    "from kem import KEM"
   ]
  },
  {
   "cell_type": "markdown",
   "metadata": {},
   "source": [
    "# Use case 1: Basic decryption test"
   ]
  },
  {
   "cell_type": "markdown",
   "metadata": {},
   "source": [
    "### Definition of the cryptosystem"
   ]
  },
  {
   "cell_type": "code",
   "execution_count": 2,
   "metadata": {},
   "outputs": [],
   "source": [
    "# Generate a random seed\n",
    "seed = randombytes(CONSTANTS_LIGHT_SABER[\"SABER_SEEDBYTES\"])\n",
    "\n",
    "# Define the PKE class\n",
    "pke = PKE(**CONSTANTS_LIGHT_SABER)"
   ]
  },
  {
   "cell_type": "markdown",
   "metadata": {},
   "source": [
    "### Key generation"
   ]
  },
  {
   "cell_type": "code",
   "execution_count": 3,
   "metadata": {},
   "outputs": [],
   "source": [
    "# Generate the public and secret key\n",
    "pk, sk = pke.KeyGen()"
   ]
  },
  {
   "cell_type": "markdown",
   "metadata": {},
   "source": [
    "### Encryption"
   ]
  },
  {
   "cell_type": "code",
   "execution_count": 4,
   "metadata": {},
   "outputs": [],
   "source": [
    "# The message to encrypt\n",
    "m = bytes(\"Miasteczko AGH dzisiaj o 21 i 37\", encoding=\"utf-8\")\n",
    "\n",
    "# Encrypt the message with the public key\n",
    "c = pke.Enc(m, seed, pk)"
   ]
  },
  {
   "cell_type": "markdown",
   "metadata": {},
   "source": [
    "### Decryption"
   ]
  },
  {
   "cell_type": "code",
   "execution_count": 5,
   "metadata": {},
   "outputs": [],
   "source": [
    "# Decrypt the message with the secret key\n",
    "m_decoded = pke.Dec(c, sk)"
   ]
  },
  {
   "cell_type": "markdown",
   "metadata": {},
   "source": [
    "### Test"
   ]
  },
  {
   "cell_type": "code",
   "execution_count": 6,
   "metadata": {},
   "outputs": [
    {
     "name": "stdout",
     "output_type": "stream",
     "text": [
      "Original message: b'Miasteczko AGH dzisiaj o 21 i 37'\n",
      "Decoded message:  b'Miasteczko AGH dzisiaj o 21 i 37'\n",
      "Decryption successful!\n"
     ]
    }
   ],
   "source": [
    "# Check if the decryption was successful\n",
    "print(f\"Original message: {m}\")\n",
    "print(f\"Decoded message:  {m_decoded}\")\n",
    "\n",
    "assert m == m_decoded, \"Decryption failed!\"\n",
    "print(\"Decryption successful!\")"
   ]
  },
  {
   "cell_type": "markdown",
   "metadata": {},
   "source": [
    "# Use case 2: Classic public key encryption (PKE) example\n",
    "In this example Alice (sender) wants to send data to Bob (receiver). The symmetric key is safely distributed thanks to the PKE system. Once the symmetric key is shared, they can communicate securely and efficiently with symmetric encryption, e.g. AES."
   ]
  },
  {
   "cell_type": "markdown",
   "metadata": {},
   "source": [
    "### Definition of the cryptosystem"
   ]
  },
  {
   "cell_type": "code",
   "execution_count": 7,
   "metadata": {},
   "outputs": [],
   "source": [
    "# Generate a random seed\n",
    "seed = randombytes(CONSTANTS_LIGHT_SABER[\"SABER_SEEDBYTES\"])\n",
    "\n",
    "# Define the PKE class\n",
    "pke = PKE(**CONSTANTS_LIGHT_SABER)"
   ]
  },
  {
   "cell_type": "markdown",
   "metadata": {},
   "source": [
    "### Bob generates a public/secret key pair\n",
    "He sends the public key to Alice, and keeps the secret key to himself."
   ]
  },
  {
   "cell_type": "code",
   "execution_count": 8,
   "metadata": {},
   "outputs": [],
   "source": [
    "pk_B, sk_B = pke.KeyGen()"
   ]
  },
  {
   "cell_type": "markdown",
   "metadata": {},
   "source": [
    "### Alice encrypts the symmetric key with Bob's public key\n",
    "She generates the symmetric key, encrypts it with Bob's public key, and sends it back to Bob."
   ]
  },
  {
   "cell_type": "code",
   "execution_count": 9,
   "metadata": {},
   "outputs": [],
   "source": [
    "# The symmetric key to encrypt\n",
    "symmetric_key_alice = bytes(\"This is my awesome symmetric key\", encoding=\"utf-8\")\n",
    "\n",
    "# Encrypt the symmetric key with the Bob's public key\n",
    "ciphertext = pke.Enc(symmetric_key_alice, seed, pk_B)"
   ]
  },
  {
   "cell_type": "markdown",
   "metadata": {},
   "source": [
    "### Bob decrypts the symmetric key with his secret key"
   ]
  },
  {
   "cell_type": "code",
   "execution_count": 10,
   "metadata": {},
   "outputs": [],
   "source": [
    "# Decrypt the message with the secret key\n",
    "symmetric_key_bob = pke.Dec(ciphertext, sk_B)"
   ]
  },
  {
   "cell_type": "markdown",
   "metadata": {},
   "source": [
    "### Symmetric key encryption for efficient communication\n",
    "Now both Alice and Bob have the same symmetric key, and they can use it to communicate efficiently using the symmetric key encryption scheme, for example, AES."
   ]
  },
  {
   "cell_type": "code",
   "execution_count": 11,
   "metadata": {},
   "outputs": [],
   "source": [
    "assert symmetric_key_alice == symmetric_key_bob, \"Decryption failed!\"\n",
    "\n",
    "iv = randombytes(16)"
   ]
  },
  {
   "cell_type": "markdown",
   "metadata": {},
   "source": [
    "#### 1. Alice sends data to Bob"
   ]
  },
  {
   "cell_type": "code",
   "execution_count": 12,
   "metadata": {},
   "outputs": [],
   "source": [
    "aes_A = AES.new(symmetric_key_alice, AES.MODE_CBC, iv)\n",
    "\n",
    "data = \"Hi Bob, it's Alice! Have you heard about the SABER algorithm?\".encode('utf-8')\n",
    "data = data + b\"\\x00\" * (16 - len(data) % 16)  # Padding (if needed)\n",
    "aes_encrypted= aes_A.encrypt(data)"
   ]
  },
  {
   "cell_type": "markdown",
   "metadata": {},
   "source": [
    "#### 2. Bob decrypts the data"
   ]
  },
  {
   "cell_type": "code",
   "execution_count": 13,
   "metadata": {},
   "outputs": [],
   "source": [
    "aes_B = AES.new(symmetric_key_bob, AES.MODE_CBC, iv)\n",
    "\n",
    "decrypted_data = aes_B.decrypt(aes_encrypted)"
   ]
  },
  {
   "cell_type": "markdown",
   "metadata": {},
   "source": [
    "#### 3. Test"
   ]
  },
  {
   "cell_type": "code",
   "execution_count": 14,
   "metadata": {},
   "outputs": [
    {
     "name": "stdout",
     "output_type": "stream",
     "text": [
      "Original data:  b\"Hi Bob, it's Alice! Have you heard about the SABER algorithm?\\x00\\x00\\x00\"\n",
      "Decrypted data: b\"Hi Bob, it's Alice! Have you heard about the SABER algorithm?\\x00\\x00\\x00\"\n",
      "Decryption successful!\n"
     ]
    }
   ],
   "source": [
    "print(f\"Original data:  {data}\")\n",
    "print(f\"Decrypted data: {decrypted_data}\")\n",
    "\n",
    "assert data == decrypted_data, \"Decryption failed!\"\n",
    "print(\"Decryption successful!\")"
   ]
  },
  {
   "cell_type": "markdown",
   "metadata": {},
   "source": [
    "# Use case 3: Key encapsulation mechanism (KEM) example\n",
    "This use case is similar to the previous one, but thanks to KEM, Alice gets the symetric key along the ciphertext in one step, from Bob's public key. She does not need to generate the symmetric key by herself. Bob can decrypt the recived ciphertext to get the same symmetric key as Alice has and they can communicate securely and efficiently with symmetric encryption, e.g. AES."
   ]
  },
  {
   "cell_type": "markdown",
   "metadata": {},
   "source": [
    "### Definition of the cryptosystem"
   ]
  },
  {
   "cell_type": "code",
   "execution_count": 15,
   "metadata": {},
   "outputs": [],
   "source": [
    "# Define the PKE class\n",
    "kem = KEM(**CONSTANTS_LIGHT_SABER)"
   ]
  },
  {
   "cell_type": "markdown",
   "metadata": {},
   "source": [
    "### Bob generates a public/secret key pair\n",
    "He sends the public key to Alice, and keeps the secret key to himself."
   ]
  },
  {
   "cell_type": "code",
   "execution_count": 16,
   "metadata": {},
   "outputs": [],
   "source": [
    "pk, sk = kem.KeyGen()"
   ]
  },
  {
   "cell_type": "markdown",
   "metadata": {},
   "source": [
    "### Alice encapsulates the Bob's public key\n",
    "She encapsulates the Bob's public key to get the session key along the ciphertext. She keeps the session key and sends the ciphertext to Bob."
   ]
  },
  {
   "cell_type": "code",
   "execution_count": 17,
   "metadata": {},
   "outputs": [],
   "source": [
    "session_key_alice, ciphertext = kem.Encaps(pk)"
   ]
  },
  {
   "cell_type": "markdown",
   "metadata": {},
   "source": [
    "### Eve intercepts the public key\n",
    "Eve intercepts the public key and tries to get the session key. But her attempt is unsuccessfull because each encapsulation is random."
   ]
  },
  {
   "cell_type": "code",
   "execution_count": 18,
   "metadata": {},
   "outputs": [
    {
     "name": "stdout",
     "output_type": "stream",
     "text": [
      "Session key is secure!\n"
     ]
    }
   ],
   "source": [
    "session_key_eve = kem.Encaps(pk)\n",
    "\n",
    "assert session_key_alice != session_key_eve, \"Eavesdropping Eve has compromised the session key!\"\n",
    "print(\"Session key is secure!\")"
   ]
  },
  {
   "cell_type": "markdown",
   "metadata": {},
   "source": [
    "### Bob decapsulates the ciphertext\n",
    "He decapsulates the ciphertext with his secret key to get the session key. Now both Alice and Bob have the same symmetric key."
   ]
  },
  {
   "cell_type": "code",
   "execution_count": 19,
   "metadata": {},
   "outputs": [],
   "source": [
    "session_key_bob = kem.Decaps(ciphertext, sk)"
   ]
  },
  {
   "cell_type": "markdown",
   "metadata": {},
   "source": [
    "### Symmetric key encryption for efficient communication\n",
    "Now both Alice and Bob have the same session key (symmetric), and they can use it to communicate efficiently using the symmetric key encryption scheme, for example, AES."
   ]
  },
  {
   "cell_type": "code",
   "execution_count": 20,
   "metadata": {},
   "outputs": [],
   "source": [
    "assert session_key_alice == session_key_bob, \"Wrong session key!\"\n",
    "\n",
    "iv = randombytes(16)"
   ]
  },
  {
   "cell_type": "markdown",
   "metadata": {},
   "source": [
    "#### 1. Alice sends data to Bob"
   ]
  },
  {
   "cell_type": "code",
   "execution_count": 21,
   "metadata": {},
   "outputs": [],
   "source": [
    "aes_A = AES.new(session_key_alice, AES.MODE_CBC, iv)\n",
    "\n",
    "data = 'Hi Bob! Our communication is now resilient for quantum atacks!'.encode('utf-8')\n",
    "data = data + b\"\\x00\" * (16 - len(data) % 16)  # Padding (if needed)\n",
    "aes_encrypted= aes_A.encrypt(data)"
   ]
  },
  {
   "cell_type": "markdown",
   "metadata": {},
   "source": [
    "#### 2. Bob decrypts the data"
   ]
  },
  {
   "cell_type": "code",
   "execution_count": 22,
   "metadata": {},
   "outputs": [],
   "source": [
    "aes_B = AES.new(session_key_bob, AES.MODE_CBC, iv)\n",
    "\n",
    "decrypted_data = aes_B.decrypt(aes_encrypted)"
   ]
  },
  {
   "cell_type": "markdown",
   "metadata": {},
   "source": [
    "#### 3. Test"
   ]
  },
  {
   "cell_type": "code",
   "execution_count": 23,
   "metadata": {},
   "outputs": [
    {
     "name": "stdout",
     "output_type": "stream",
     "text": [
      "Original data:  b'Hi Bob! Our communication is now resilient for quantum atacks!\\x00\\x00'\n",
      "Decrypted data: b'Hi Bob! Our communication is now resilient for quantum atacks!\\x00\\x00'\n",
      "Decryption successful!\n"
     ]
    }
   ],
   "source": [
    "print(f\"Original data:  {data}\")\n",
    "print(f\"Decrypted data: {decrypted_data}\")\n",
    "\n",
    "assert data == decrypted_data, \"Decryption failed!\"\n",
    "print(\"Decryption successful!\")"
   ]
  },
  {
   "cell_type": "code",
   "execution_count": null,
   "metadata": {},
   "outputs": [],
   "source": []
  }
 ],
 "metadata": {
  "kernelspec": {
   "display_name": "Python 3 (ipykernel)",
   "language": "python",
   "name": "python3"
  },
  "language_info": {
   "codemirror_mode": {
    "name": "ipython",
    "version": 3
   },
   "file_extension": ".py",
   "mimetype": "text/x-python",
   "name": "python",
   "nbconvert_exporter": "python",
   "pygments_lexer": "ipython3",
   "version": "3.10.4"
  }
 },
 "nbformat": 4,
 "nbformat_minor": 4
}
